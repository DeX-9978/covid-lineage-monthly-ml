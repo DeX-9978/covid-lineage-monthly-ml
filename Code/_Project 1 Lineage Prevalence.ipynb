{
 "cells": [
  {
   "cell_type": "code",
   "execution_count": 1,
   "id": "4014bb72-7444-4c3c-abeb-2ecd0f1c2f01",
   "metadata": {},
   "outputs": [],
   "source": [
    "from docx import Document\n",
    "import pandas as pd"
   ]
  },
  {
   "cell_type": "code",
   "execution_count": 2,
   "id": "c51e457b-522b-49e9-8891-d3a2f5d2ec94",
   "metadata": {},
   "outputs": [],
   "source": [
    "# load he document from local file directory\n",
    "doc = Document(\"mmc1.docx\")"
   ]
  },
  {
   "cell_type": "code",
   "execution_count": 34,
   "id": "4c5a0b08-8441-464e-8077-3012b7b38d84",
   "metadata": {},
   "outputs": [],
   "source": [
    "#Taking data from Supplementary table 2 for lineage by month data\n",
    "table_index = 1 #1 since index values start from 0"
   ]
  },
  {
   "cell_type": "code",
   "execution_count": 35,
   "id": "5e9ea7d9-9d7f-4706-9015-dfa933f09915",
   "metadata": {},
   "outputs": [
    {
     "name": "stdout",
     "output_type": "stream",
     "text": [
      "<docx.document.Document object at 0x000001C7E96CABA0>\n"
     ]
    }
   ],
   "source": [
    "print(doc)"
   ]
  },
  {
   "cell_type": "code",
   "execution_count": 36,
   "id": "da59ac88-f269-4458-ba91-50300b168d4c",
   "metadata": {},
   "outputs": [],
   "source": [
    "#getting the table\n",
    "table = doc.tables[table_index]"
   ]
  },
  {
   "cell_type": "code",
   "execution_count": 37,
   "id": "b300e3cb-5728-43b6-8577-11a45b595351",
   "metadata": {},
   "outputs": [],
   "source": [
    "#Extracting the data from the table\n",
    "data = []\n",
    "for row in table.rows:\n",
    "    row_data = [cell.text.strip() for cell in row.cells]\n",
    "    data.append(row_data)"
   ]
  },
  {
   "cell_type": "code",
   "execution_count": 38,
   "id": "f8008844-fa74-45b9-b535-2f2babfc475f",
   "metadata": {},
   "outputs": [],
   "source": [
    "#convert table into a dataframe\n",
    "df = pd.DataFrame(data[1:], columns=data[0]) #keeping the first row as the header in the df"
   ]
  },
  {
   "cell_type": "code",
   "execution_count": 39,
   "id": "66d86f8c-575b-4d89-9867-b447ab5d6e10",
   "metadata": {},
   "outputs": [
    {
     "name": "stdout",
     "output_type": "stream",
     "text": [
      "            Month AY.23, \\nn (%) B.1.617.2, \\nn (%) AY.59, \\nn (%)  \\\n",
      "0       June 2021       6 (7.59)         41 (51.90)       4 (5.06)   \n",
      "1       July 2021      28 (6.44)        326 (74.94)      37 (8.51)   \n",
      "2     August 2021    513 (36.18)        543 (38.29)     102 (7.19)   \n",
      "3  September 2021    817 (50.94)        580 (36.16)      20 (1.25)   \n",
      "4    October 2021    463 (46.16)        226 (22.53)    158 (15.75)   \n",
      "5   November 2021    303 (35.99)          71 (8.43)    215 (25.53)   \n",
      "6   December 2021    153 (23.76)          22 (3.42)    175 (27.17)   \n",
      "7    January 2021       6 (4.35)           3 (2.17)       4 (2.90)   \n",
      "\n",
      "  AY.79, \\nn (%) AY.4\\nn (%) AY.24\\nn (%) AY.76, \\nn (%) BA.1.1, \\nn (%)  \\\n",
      "0       5 (6.33)    2 (2.53)     0 (0.00)       0 (0.00)        0 (0.00)   \n",
      "1       8 (1.84)    5 (1.15)     4 (0.92)       1 (0.23)        0 (0.00)   \n",
      "2      51 (3.60)   79 (5.57)    31 (2.19)       6 (0.42)        0 (0.00)   \n",
      "3      43 (2.68)   37 (2.31)    40 (2.49)       7 (0.44)        0 (0.00)   \n",
      "4      72 (7.18)    7 (0.70)     5 (0.50)      31 (3.09)        0 (0.00)   \n",
      "5    177 (21.02)    0 (0.00)     6 (0.71)      26 (3.09)        1 (0.12)   \n",
      "6    188 (29.19)    2 (0.31)     3 (0.47)      16 (2.48)       11 (1.71)   \n",
      "7       8 (5.80)    0 (0.00)     0 (0.00)       2 (1.45)      72 (52.17)   \n",
      "\n",
      "  AU.2, \\nn (%) BA.1 \\nn (%) Others,\\nn (%) Total,\\nn (%)  \n",
      "0      7 (8.86)     0 (0.00)     14 (17.72)      79 (100)  \n",
      "1      8 (1.84)     0 (0.00)      19 (4.37)     435 (100)  \n",
      "2     43 (3.03)     0 (0.00)      50 (3.53)    1418 (100)  \n",
      "3      2 (0.12)     0 (0.00)      58 (3.62)    1604 (100)  \n",
      "4      0 (0.00)     0 (0.00)      41 (4.09)    1003 (100)  \n",
      "5      0 (0.00)     0 (0.00)      43 (5.11)     842 (100)  \n",
      "6      0 (0.00)    18 (2.80)      56 (8.70)     644 (100)  \n",
      "7      0 (0.00)   36 (26.09)       7 (5.07)     138 (100)  \n"
     ]
    }
   ],
   "source": [
    "print(df)\n",
    "#print to check the data has been loaded succesfully into the dataframe"
   ]
  },
  {
   "cell_type": "code",
   "execution_count": 40,
   "id": "99c47bef-8f20-4a87-b53a-37c8ad56dd82",
   "metadata": {},
   "outputs": [
    {
     "name": "stdout",
     "output_type": "stream",
     "text": [
      "Saved data as 'Lineage_by_month.csv' file\n"
     ]
    }
   ],
   "source": [
    "#save the data in a csv file\n",
    "df.to_csv(\"Lineage_by_month.csv\", index=False)\n",
    "print(\"Saved data as 'Lineage_by_month.csv' file\")"
   ]
  },
  {
   "cell_type": "code",
   "execution_count": 41,
   "id": "ac427239-9597-49ff-a687-f6d43d254dbb",
   "metadata": {},
   "outputs": [],
   "source": [
    "#load the csv file as df\n",
    "df = pd.read_csv(\"Lineage_by_month.csv\")"
   ]
  },
  {
   "cell_type": "code",
   "execution_count": 42,
   "id": "de387669-75ca-44d7-837e-de0dcaa96ab4",
   "metadata": {},
   "outputs": [
    {
     "name": "stdout",
     "output_type": "stream",
     "text": [
      "Index(['Month', 'AY.23, \\nn (%)', 'B.1.617.2, \\nn (%)', 'AY.59, \\nn (%)',\n",
      "       'AY.79, \\nn (%)', 'AY.4\\nn (%)', 'AY.24\\nn (%)', 'AY.76, \\nn (%)',\n",
      "       'BA.1.1, \\nn (%)', 'AU.2, \\nn (%)', 'BA.1 \\nn (%)', 'Others,\\nn (%)',\n",
      "       'Total,\\nn (%)'],\n",
      "      dtype='object')\n"
     ]
    }
   ],
   "source": [
    "print(df.columns)\n",
    "#identify the column names in the dataset"
   ]
  },
  {
   "cell_type": "code",
   "execution_count": 43,
   "id": "ce30d3d5-5b7f-479c-8121-e5ba7b754a99",
   "metadata": {},
   "outputs": [
    {
     "name": "stdout",
     "output_type": "stream",
     "text": [
      "6 (7.59)\n"
     ]
    }
   ],
   "source": [
    "print(df.iloc[0, 1])  # print the first cell in the first lineage column\n"
   ]
  },
  {
   "cell_type": "code",
   "execution_count": 44,
   "id": "dc3a2cc7-509b-470e-8196-6b0bac07ae04",
   "metadata": {},
   "outputs": [],
   "source": [
    "#extract and only use the percentage data from the column/lineages\n",
    "import re\n",
    "\n",
    "#extrating the percentage value, values in the parentheses from the lineages\n",
    "def extract_percentage(value):\n",
    "    value = str(value)\n",
    "    match = re.search(r'\\(([\\d]+(?:\\.\\d+)?)\\)', value)\n",
    "    return float(match.group(1)) if match else None\n"
   ]
  },
  {
   "cell_type": "code",
   "execution_count": 45,
   "id": "8bed6433-b5d4-456c-baa7-dc76b0eb95a0",
   "metadata": {},
   "outputs": [],
   "source": [
    "#applying function to all lineage columns\n",
    "\n",
    "# Assuming column 0 is 'Month'\n",
    "for col in df.columns[1:]:\n",
    "    df[col] = df[col].apply(extract_percentage)"
   ]
  },
  {
   "cell_type": "code",
   "execution_count": 46,
   "id": "8e980d88-86f7-4439-9d2c-27c81784a61f",
   "metadata": {},
   "outputs": [
    {
     "name": "stdout",
     "output_type": "stream",
     "text": [
      "            Month  AY.23, \\nn (%)  B.1.617.2, \\nn (%)  AY.59, \\nn (%)  \\\n",
      "0       June 2021            7.59               51.90            5.06   \n",
      "1       July 2021            6.44               74.94            8.51   \n",
      "2     August 2021           36.18               38.29            7.19   \n",
      "3  September 2021           50.94               36.16            1.25   \n",
      "4    October 2021           46.16               22.53           15.75   \n",
      "\n",
      "   AY.79, \\nn (%)  AY.4\\nn (%)  AY.24\\nn (%)  AY.76, \\nn (%)  BA.1.1, \\nn (%)  \\\n",
      "0            6.33         2.53          0.00            0.00              0.0   \n",
      "1            1.84         1.15          0.92            0.23              0.0   \n",
      "2            3.60         5.57          2.19            0.42              0.0   \n",
      "3            2.68         2.31          2.49            0.44              0.0   \n",
      "4            7.18         0.70          0.50            3.09              0.0   \n",
      "\n",
      "   AU.2, \\nn (%)  BA.1 \\nn (%)  Others,\\nn (%)  Total,\\nn (%)  \n",
      "0           8.86           0.0           17.72          100.0  \n",
      "1           1.84           0.0            4.37          100.0  \n",
      "2           3.03           0.0            3.53          100.0  \n",
      "3           0.12           0.0            3.62          100.0  \n",
      "4           0.00           0.0            4.09          100.0  \n"
     ]
    }
   ],
   "source": [
    "#print the lineage column to verify the extraction\n",
    "print(df.head())"
   ]
  },
  {
   "cell_type": "code",
   "execution_count": 47,
   "id": "bb425b72-88de-4047-85e3-b9efdf20cab5",
   "metadata": {},
   "outputs": [
    {
     "name": "stdout",
     "output_type": "stream",
     "text": [
      "['Month', 'AY.23, \\nn (%)', 'B.1.617.2, \\nn (%)', 'AY.59, \\nn (%)', 'AY.79, \\nn (%)', 'AY.4\\nn (%)', 'AY.24\\nn (%)', 'AY.76, \\nn (%)', 'BA.1.1, \\nn (%)', 'AU.2, \\nn (%)', 'BA.1 \\nn (%)', 'Others,\\nn (%)', 'Total,\\nn (%)']\n"
     ]
    }
   ],
   "source": [
    "#list the column names to only use the covid-19 lineage olumns and not other columns such as Total and Others\n",
    "print(df.columns.tolist())"
   ]
  },
  {
   "cell_type": "code",
   "execution_count": 48,
   "id": "bdd2c9de-2eed-4d29-8f0f-e147065d0d05",
   "metadata": {},
   "outputs": [
    {
     "name": "stdout",
     "output_type": "stream",
     "text": [
      "['Month', 'AY.23', 'B.1.617.2', 'AY.59', 'AY.79', 'AY.4', 'AY.24', 'AY.76', 'BA.1.1', 'AU.2', 'BA.1', 'Others', 'Total']\n"
     ]
    }
   ],
   "source": [
    "#clean the column name\n",
    "df.columns = [col.replace('\\n', '').replace('n (%)', '').strip().split(',')[0] for col in df.columns]\n",
    "print(df.columns.tolist())"
   ]
  },
  {
   "cell_type": "code",
   "execution_count": 49,
   "id": "8198acdf-d634-47fc-a4d0-097b0c83d842",
   "metadata": {},
   "outputs": [],
   "source": [
    "#create a new variable for the COVID-19 lineages only\n",
    "lineage_columns = ['AY.23', 'B.1.617.2', 'AY.59', 'AY.79', 'AY.4', 'AY.24', 'AY.76', 'BA.1.1', 'AU.2', 'BA.1']"
   ]
  },
  {
   "cell_type": "code",
   "execution_count": 50,
   "id": "cd9f8815-2734-4bf9-b68e-067ee162a7fa",
   "metadata": {},
   "outputs": [
    {
     "name": "stdout",
     "output_type": "stream",
     "text": [
      "            Month Most_Prevalent_Lineage\n",
      "0       June 2021              B.1.617.2\n",
      "1       July 2021              B.1.617.2\n",
      "2     August 2021              B.1.617.2\n",
      "3  September 2021                  AY.23\n",
      "4    October 2021                  AY.23\n",
      "5   November 2021                  AY.23\n",
      "6   December 2021                  AY.79\n",
      "7    January 2021                 BA.1.1\n"
     ]
    }
   ],
   "source": [
    "#create a new column to identify the most prevalent/domninat lineage in each month\n",
    "df['Most_Prevalent_Lineage'] = df[lineage_columns].idxmax(axis=1)\n",
    "print(df[['Month', 'Most_Prevalent_Lineage']])"
   ]
  },
  {
   "cell_type": "code",
   "execution_count": 51,
   "id": "43acf273-d39d-4ec6-9c8e-b7a200194e42",
   "metadata": {},
   "outputs": [],
   "source": [
    "#spliting the feeatures and the target for machine learning\n",
    "# X as Features; Y as Target Labels\n",
    "\n",
    "X = df[lineage_columns]\n",
    "Y = df['Most_Prevalent_Lineage']\n"
   ]
  },
  {
   "cell_type": "code",
   "execution_count": 52,
   "id": "09319118-74f2-4353-9861-4a48ddce8edc",
   "metadata": {},
   "outputs": [
    {
     "name": "stdout",
     "output_type": "stream",
     "text": [
      "   AY.23  B.1.617.2  AY.59  AY.79  AY.4  AY.24  AY.76  BA.1.1  AU.2  BA.1\n",
      "0   7.59      51.90   5.06   6.33  2.53   0.00   0.00     0.0  8.86   0.0\n",
      "1   6.44      74.94   8.51   1.84  1.15   0.92   0.23     0.0  1.84   0.0\n",
      "2  36.18      38.29   7.19   3.60  5.57   2.19   0.42     0.0  3.03   0.0\n",
      "3  50.94      36.16   1.25   2.68  2.31   2.49   0.44     0.0  0.12   0.0\n",
      "4  46.16      22.53  15.75   7.18  0.70   0.50   3.09     0.0  0.00   0.0\n",
      "0    B.1.617.2\n",
      "1    B.1.617.2\n",
      "2    B.1.617.2\n",
      "3        AY.23\n",
      "4        AY.23\n",
      "Name: Most_Prevalent_Lineage, dtype: object\n"
     ]
    }
   ],
   "source": [
    "print(X.head())\n",
    "print(Y.head())\n"
   ]
  },
  {
   "cell_type": "code",
   "execution_count": 53,
   "id": "dc5e95e9-cfb6-4840-b434-fb6c11a45bfb",
   "metadata": {},
   "outputs": [],
   "source": [
    "#Machine Learning Time\n",
    "\n",
    "#using a Random Forest Classifier model since the dataset is small.\n",
    "\n",
    "from sklearn.ensemble import RandomForestClassifier\n",
    "from sklearn.model_selection import train_test_split\n",
    "from sklearn.metrics import classification_report, confusion_matrix\n",
    "import seaborn as sns\n",
    "import matplotlib.pyplot as plt"
   ]
  },
  {
   "cell_type": "code",
   "execution_count": 54,
   "id": "0c8de991-9f36-48fc-a90f-1a719810334c",
   "metadata": {},
   "outputs": [],
   "source": [
    "#split dataset for training and testing\n",
    "\n",
    "X_train, X_test, Y_train, Y_test = train_test_split(\n",
    "    X, Y, test_size=0.25, random_state=42\n",
    ")\n"
   ]
  },
  {
   "cell_type": "code",
   "execution_count": 55,
   "id": "ccc00ef5-9dd6-40c7-91fd-13c39feec346",
   "metadata": {},
   "outputs": [
    {
     "data": {
      "text/html": [
       "<style>#sk-container-id-2 {\n",
       "  /* Definition of color scheme common for light and dark mode */\n",
       "  --sklearn-color-text: #000;\n",
       "  --sklearn-color-text-muted: #666;\n",
       "  --sklearn-color-line: gray;\n",
       "  /* Definition of color scheme for unfitted estimators */\n",
       "  --sklearn-color-unfitted-level-0: #fff5e6;\n",
       "  --sklearn-color-unfitted-level-1: #f6e4d2;\n",
       "  --sklearn-color-unfitted-level-2: #ffe0b3;\n",
       "  --sklearn-color-unfitted-level-3: chocolate;\n",
       "  /* Definition of color scheme for fitted estimators */\n",
       "  --sklearn-color-fitted-level-0: #f0f8ff;\n",
       "  --sklearn-color-fitted-level-1: #d4ebff;\n",
       "  --sklearn-color-fitted-level-2: #b3dbfd;\n",
       "  --sklearn-color-fitted-level-3: cornflowerblue;\n",
       "\n",
       "  /* Specific color for light theme */\n",
       "  --sklearn-color-text-on-default-background: var(--sg-text-color, var(--theme-code-foreground, var(--jp-content-font-color1, black)));\n",
       "  --sklearn-color-background: var(--sg-background-color, var(--theme-background, var(--jp-layout-color0, white)));\n",
       "  --sklearn-color-border-box: var(--sg-text-color, var(--theme-code-foreground, var(--jp-content-font-color1, black)));\n",
       "  --sklearn-color-icon: #696969;\n",
       "\n",
       "  @media (prefers-color-scheme: dark) {\n",
       "    /* Redefinition of color scheme for dark theme */\n",
       "    --sklearn-color-text-on-default-background: var(--sg-text-color, var(--theme-code-foreground, var(--jp-content-font-color1, white)));\n",
       "    --sklearn-color-background: var(--sg-background-color, var(--theme-background, var(--jp-layout-color0, #111)));\n",
       "    --sklearn-color-border-box: var(--sg-text-color, var(--theme-code-foreground, var(--jp-content-font-color1, white)));\n",
       "    --sklearn-color-icon: #878787;\n",
       "  }\n",
       "}\n",
       "\n",
       "#sk-container-id-2 {\n",
       "  color: var(--sklearn-color-text);\n",
       "}\n",
       "\n",
       "#sk-container-id-2 pre {\n",
       "  padding: 0;\n",
       "}\n",
       "\n",
       "#sk-container-id-2 input.sk-hidden--visually {\n",
       "  border: 0;\n",
       "  clip: rect(1px 1px 1px 1px);\n",
       "  clip: rect(1px, 1px, 1px, 1px);\n",
       "  height: 1px;\n",
       "  margin: -1px;\n",
       "  overflow: hidden;\n",
       "  padding: 0;\n",
       "  position: absolute;\n",
       "  width: 1px;\n",
       "}\n",
       "\n",
       "#sk-container-id-2 div.sk-dashed-wrapped {\n",
       "  border: 1px dashed var(--sklearn-color-line);\n",
       "  margin: 0 0.4em 0.5em 0.4em;\n",
       "  box-sizing: border-box;\n",
       "  padding-bottom: 0.4em;\n",
       "  background-color: var(--sklearn-color-background);\n",
       "}\n",
       "\n",
       "#sk-container-id-2 div.sk-container {\n",
       "  /* jupyter's `normalize.less` sets `[hidden] { display: none; }`\n",
       "     but bootstrap.min.css set `[hidden] { display: none !important; }`\n",
       "     so we also need the `!important` here to be able to override the\n",
       "     default hidden behavior on the sphinx rendered scikit-learn.org.\n",
       "     See: https://github.com/scikit-learn/scikit-learn/issues/21755 */\n",
       "  display: inline-block !important;\n",
       "  position: relative;\n",
       "}\n",
       "\n",
       "#sk-container-id-2 div.sk-text-repr-fallback {\n",
       "  display: none;\n",
       "}\n",
       "\n",
       "div.sk-parallel-item,\n",
       "div.sk-serial,\n",
       "div.sk-item {\n",
       "  /* draw centered vertical line to link estimators */\n",
       "  background-image: linear-gradient(var(--sklearn-color-text-on-default-background), var(--sklearn-color-text-on-default-background));\n",
       "  background-size: 2px 100%;\n",
       "  background-repeat: no-repeat;\n",
       "  background-position: center center;\n",
       "}\n",
       "\n",
       "/* Parallel-specific style estimator block */\n",
       "\n",
       "#sk-container-id-2 div.sk-parallel-item::after {\n",
       "  content: \"\";\n",
       "  width: 100%;\n",
       "  border-bottom: 2px solid var(--sklearn-color-text-on-default-background);\n",
       "  flex-grow: 1;\n",
       "}\n",
       "\n",
       "#sk-container-id-2 div.sk-parallel {\n",
       "  display: flex;\n",
       "  align-items: stretch;\n",
       "  justify-content: center;\n",
       "  background-color: var(--sklearn-color-background);\n",
       "  position: relative;\n",
       "}\n",
       "\n",
       "#sk-container-id-2 div.sk-parallel-item {\n",
       "  display: flex;\n",
       "  flex-direction: column;\n",
       "}\n",
       "\n",
       "#sk-container-id-2 div.sk-parallel-item:first-child::after {\n",
       "  align-self: flex-end;\n",
       "  width: 50%;\n",
       "}\n",
       "\n",
       "#sk-container-id-2 div.sk-parallel-item:last-child::after {\n",
       "  align-self: flex-start;\n",
       "  width: 50%;\n",
       "}\n",
       "\n",
       "#sk-container-id-2 div.sk-parallel-item:only-child::after {\n",
       "  width: 0;\n",
       "}\n",
       "\n",
       "/* Serial-specific style estimator block */\n",
       "\n",
       "#sk-container-id-2 div.sk-serial {\n",
       "  display: flex;\n",
       "  flex-direction: column;\n",
       "  align-items: center;\n",
       "  background-color: var(--sklearn-color-background);\n",
       "  padding-right: 1em;\n",
       "  padding-left: 1em;\n",
       "}\n",
       "\n",
       "\n",
       "/* Toggleable style: style used for estimator/Pipeline/ColumnTransformer box that is\n",
       "clickable and can be expanded/collapsed.\n",
       "- Pipeline and ColumnTransformer use this feature and define the default style\n",
       "- Estimators will overwrite some part of the style using the `sk-estimator` class\n",
       "*/\n",
       "\n",
       "/* Pipeline and ColumnTransformer style (default) */\n",
       "\n",
       "#sk-container-id-2 div.sk-toggleable {\n",
       "  /* Default theme specific background. It is overwritten whether we have a\n",
       "  specific estimator or a Pipeline/ColumnTransformer */\n",
       "  background-color: var(--sklearn-color-background);\n",
       "}\n",
       "\n",
       "/* Toggleable label */\n",
       "#sk-container-id-2 label.sk-toggleable__label {\n",
       "  cursor: pointer;\n",
       "  display: flex;\n",
       "  width: 100%;\n",
       "  margin-bottom: 0;\n",
       "  padding: 0.5em;\n",
       "  box-sizing: border-box;\n",
       "  text-align: center;\n",
       "  align-items: start;\n",
       "  justify-content: space-between;\n",
       "  gap: 0.5em;\n",
       "}\n",
       "\n",
       "#sk-container-id-2 label.sk-toggleable__label .caption {\n",
       "  font-size: 0.6rem;\n",
       "  font-weight: lighter;\n",
       "  color: var(--sklearn-color-text-muted);\n",
       "}\n",
       "\n",
       "#sk-container-id-2 label.sk-toggleable__label-arrow:before {\n",
       "  /* Arrow on the left of the label */\n",
       "  content: \"▸\";\n",
       "  float: left;\n",
       "  margin-right: 0.25em;\n",
       "  color: var(--sklearn-color-icon);\n",
       "}\n",
       "\n",
       "#sk-container-id-2 label.sk-toggleable__label-arrow:hover:before {\n",
       "  color: var(--sklearn-color-text);\n",
       "}\n",
       "\n",
       "/* Toggleable content - dropdown */\n",
       "\n",
       "#sk-container-id-2 div.sk-toggleable__content {\n",
       "  max-height: 0;\n",
       "  max-width: 0;\n",
       "  overflow: hidden;\n",
       "  text-align: left;\n",
       "  /* unfitted */\n",
       "  background-color: var(--sklearn-color-unfitted-level-0);\n",
       "}\n",
       "\n",
       "#sk-container-id-2 div.sk-toggleable__content.fitted {\n",
       "  /* fitted */\n",
       "  background-color: var(--sklearn-color-fitted-level-0);\n",
       "}\n",
       "\n",
       "#sk-container-id-2 div.sk-toggleable__content pre {\n",
       "  margin: 0.2em;\n",
       "  border-radius: 0.25em;\n",
       "  color: var(--sklearn-color-text);\n",
       "  /* unfitted */\n",
       "  background-color: var(--sklearn-color-unfitted-level-0);\n",
       "}\n",
       "\n",
       "#sk-container-id-2 div.sk-toggleable__content.fitted pre {\n",
       "  /* unfitted */\n",
       "  background-color: var(--sklearn-color-fitted-level-0);\n",
       "}\n",
       "\n",
       "#sk-container-id-2 input.sk-toggleable__control:checked~div.sk-toggleable__content {\n",
       "  /* Expand drop-down */\n",
       "  max-height: 200px;\n",
       "  max-width: 100%;\n",
       "  overflow: auto;\n",
       "}\n",
       "\n",
       "#sk-container-id-2 input.sk-toggleable__control:checked~label.sk-toggleable__label-arrow:before {\n",
       "  content: \"▾\";\n",
       "}\n",
       "\n",
       "/* Pipeline/ColumnTransformer-specific style */\n",
       "\n",
       "#sk-container-id-2 div.sk-label input.sk-toggleable__control:checked~label.sk-toggleable__label {\n",
       "  color: var(--sklearn-color-text);\n",
       "  background-color: var(--sklearn-color-unfitted-level-2);\n",
       "}\n",
       "\n",
       "#sk-container-id-2 div.sk-label.fitted input.sk-toggleable__control:checked~label.sk-toggleable__label {\n",
       "  background-color: var(--sklearn-color-fitted-level-2);\n",
       "}\n",
       "\n",
       "/* Estimator-specific style */\n",
       "\n",
       "/* Colorize estimator box */\n",
       "#sk-container-id-2 div.sk-estimator input.sk-toggleable__control:checked~label.sk-toggleable__label {\n",
       "  /* unfitted */\n",
       "  background-color: var(--sklearn-color-unfitted-level-2);\n",
       "}\n",
       "\n",
       "#sk-container-id-2 div.sk-estimator.fitted input.sk-toggleable__control:checked~label.sk-toggleable__label {\n",
       "  /* fitted */\n",
       "  background-color: var(--sklearn-color-fitted-level-2);\n",
       "}\n",
       "\n",
       "#sk-container-id-2 div.sk-label label.sk-toggleable__label,\n",
       "#sk-container-id-2 div.sk-label label {\n",
       "  /* The background is the default theme color */\n",
       "  color: var(--sklearn-color-text-on-default-background);\n",
       "}\n",
       "\n",
       "/* On hover, darken the color of the background */\n",
       "#sk-container-id-2 div.sk-label:hover label.sk-toggleable__label {\n",
       "  color: var(--sklearn-color-text);\n",
       "  background-color: var(--sklearn-color-unfitted-level-2);\n",
       "}\n",
       "\n",
       "/* Label box, darken color on hover, fitted */\n",
       "#sk-container-id-2 div.sk-label.fitted:hover label.sk-toggleable__label.fitted {\n",
       "  color: var(--sklearn-color-text);\n",
       "  background-color: var(--sklearn-color-fitted-level-2);\n",
       "}\n",
       "\n",
       "/* Estimator label */\n",
       "\n",
       "#sk-container-id-2 div.sk-label label {\n",
       "  font-family: monospace;\n",
       "  font-weight: bold;\n",
       "  display: inline-block;\n",
       "  line-height: 1.2em;\n",
       "}\n",
       "\n",
       "#sk-container-id-2 div.sk-label-container {\n",
       "  text-align: center;\n",
       "}\n",
       "\n",
       "/* Estimator-specific */\n",
       "#sk-container-id-2 div.sk-estimator {\n",
       "  font-family: monospace;\n",
       "  border: 1px dotted var(--sklearn-color-border-box);\n",
       "  border-radius: 0.25em;\n",
       "  box-sizing: border-box;\n",
       "  margin-bottom: 0.5em;\n",
       "  /* unfitted */\n",
       "  background-color: var(--sklearn-color-unfitted-level-0);\n",
       "}\n",
       "\n",
       "#sk-container-id-2 div.sk-estimator.fitted {\n",
       "  /* fitted */\n",
       "  background-color: var(--sklearn-color-fitted-level-0);\n",
       "}\n",
       "\n",
       "/* on hover */\n",
       "#sk-container-id-2 div.sk-estimator:hover {\n",
       "  /* unfitted */\n",
       "  background-color: var(--sklearn-color-unfitted-level-2);\n",
       "}\n",
       "\n",
       "#sk-container-id-2 div.sk-estimator.fitted:hover {\n",
       "  /* fitted */\n",
       "  background-color: var(--sklearn-color-fitted-level-2);\n",
       "}\n",
       "\n",
       "/* Specification for estimator info (e.g. \"i\" and \"?\") */\n",
       "\n",
       "/* Common style for \"i\" and \"?\" */\n",
       "\n",
       ".sk-estimator-doc-link,\n",
       "a:link.sk-estimator-doc-link,\n",
       "a:visited.sk-estimator-doc-link {\n",
       "  float: right;\n",
       "  font-size: smaller;\n",
       "  line-height: 1em;\n",
       "  font-family: monospace;\n",
       "  background-color: var(--sklearn-color-background);\n",
       "  border-radius: 1em;\n",
       "  height: 1em;\n",
       "  width: 1em;\n",
       "  text-decoration: none !important;\n",
       "  margin-left: 0.5em;\n",
       "  text-align: center;\n",
       "  /* unfitted */\n",
       "  border: var(--sklearn-color-unfitted-level-1) 1pt solid;\n",
       "  color: var(--sklearn-color-unfitted-level-1);\n",
       "}\n",
       "\n",
       ".sk-estimator-doc-link.fitted,\n",
       "a:link.sk-estimator-doc-link.fitted,\n",
       "a:visited.sk-estimator-doc-link.fitted {\n",
       "  /* fitted */\n",
       "  border: var(--sklearn-color-fitted-level-1) 1pt solid;\n",
       "  color: var(--sklearn-color-fitted-level-1);\n",
       "}\n",
       "\n",
       "/* On hover */\n",
       "div.sk-estimator:hover .sk-estimator-doc-link:hover,\n",
       ".sk-estimator-doc-link:hover,\n",
       "div.sk-label-container:hover .sk-estimator-doc-link:hover,\n",
       ".sk-estimator-doc-link:hover {\n",
       "  /* unfitted */\n",
       "  background-color: var(--sklearn-color-unfitted-level-3);\n",
       "  color: var(--sklearn-color-background);\n",
       "  text-decoration: none;\n",
       "}\n",
       "\n",
       "div.sk-estimator.fitted:hover .sk-estimator-doc-link.fitted:hover,\n",
       ".sk-estimator-doc-link.fitted:hover,\n",
       "div.sk-label-container:hover .sk-estimator-doc-link.fitted:hover,\n",
       ".sk-estimator-doc-link.fitted:hover {\n",
       "  /* fitted */\n",
       "  background-color: var(--sklearn-color-fitted-level-3);\n",
       "  color: var(--sklearn-color-background);\n",
       "  text-decoration: none;\n",
       "}\n",
       "\n",
       "/* Span, style for the box shown on hovering the info icon */\n",
       ".sk-estimator-doc-link span {\n",
       "  display: none;\n",
       "  z-index: 9999;\n",
       "  position: relative;\n",
       "  font-weight: normal;\n",
       "  right: .2ex;\n",
       "  padding: .5ex;\n",
       "  margin: .5ex;\n",
       "  width: min-content;\n",
       "  min-width: 20ex;\n",
       "  max-width: 50ex;\n",
       "  color: var(--sklearn-color-text);\n",
       "  box-shadow: 2pt 2pt 4pt #999;\n",
       "  /* unfitted */\n",
       "  background: var(--sklearn-color-unfitted-level-0);\n",
       "  border: .5pt solid var(--sklearn-color-unfitted-level-3);\n",
       "}\n",
       "\n",
       ".sk-estimator-doc-link.fitted span {\n",
       "  /* fitted */\n",
       "  background: var(--sklearn-color-fitted-level-0);\n",
       "  border: var(--sklearn-color-fitted-level-3);\n",
       "}\n",
       "\n",
       ".sk-estimator-doc-link:hover span {\n",
       "  display: block;\n",
       "}\n",
       "\n",
       "/* \"?\"-specific style due to the `<a>` HTML tag */\n",
       "\n",
       "#sk-container-id-2 a.estimator_doc_link {\n",
       "  float: right;\n",
       "  font-size: 1rem;\n",
       "  line-height: 1em;\n",
       "  font-family: monospace;\n",
       "  background-color: var(--sklearn-color-background);\n",
       "  border-radius: 1rem;\n",
       "  height: 1rem;\n",
       "  width: 1rem;\n",
       "  text-decoration: none;\n",
       "  /* unfitted */\n",
       "  color: var(--sklearn-color-unfitted-level-1);\n",
       "  border: var(--sklearn-color-unfitted-level-1) 1pt solid;\n",
       "}\n",
       "\n",
       "#sk-container-id-2 a.estimator_doc_link.fitted {\n",
       "  /* fitted */\n",
       "  border: var(--sklearn-color-fitted-level-1) 1pt solid;\n",
       "  color: var(--sklearn-color-fitted-level-1);\n",
       "}\n",
       "\n",
       "/* On hover */\n",
       "#sk-container-id-2 a.estimator_doc_link:hover {\n",
       "  /* unfitted */\n",
       "  background-color: var(--sklearn-color-unfitted-level-3);\n",
       "  color: var(--sklearn-color-background);\n",
       "  text-decoration: none;\n",
       "}\n",
       "\n",
       "#sk-container-id-2 a.estimator_doc_link.fitted:hover {\n",
       "  /* fitted */\n",
       "  background-color: var(--sklearn-color-fitted-level-3);\n",
       "}\n",
       "</style><div id=\"sk-container-id-2\" class=\"sk-top-container\"><div class=\"sk-text-repr-fallback\"><pre>RandomForestClassifier(random_state=42)</pre><b>In a Jupyter environment, please rerun this cell to show the HTML representation or trust the notebook. <br />On GitHub, the HTML representation is unable to render, please try loading this page with nbviewer.org.</b></div><div class=\"sk-container\" hidden><div class=\"sk-item\"><div class=\"sk-estimator fitted sk-toggleable\"><input class=\"sk-toggleable__control sk-hidden--visually\" id=\"sk-estimator-id-2\" type=\"checkbox\" checked><label for=\"sk-estimator-id-2\" class=\"sk-toggleable__label fitted sk-toggleable__label-arrow\"><div><div>RandomForestClassifier</div></div><div><a class=\"sk-estimator-doc-link fitted\" rel=\"noreferrer\" target=\"_blank\" href=\"https://scikit-learn.org/1.6/modules/generated/sklearn.ensemble.RandomForestClassifier.html\">?<span>Documentation for RandomForestClassifier</span></a><span class=\"sk-estimator-doc-link fitted\">i<span>Fitted</span></span></div></label><div class=\"sk-toggleable__content fitted\"><pre>RandomForestClassifier(random_state=42)</pre></div> </div></div></div></div>"
      ],
      "text/plain": [
       "RandomForestClassifier(random_state=42)"
      ]
     },
     "execution_count": 55,
     "metadata": {},
     "output_type": "execute_result"
    }
   ],
   "source": [
    "#training the random forest model\n",
    "model = RandomForestClassifier(random_state=42)\n",
    "model.fit(X_train, Y_train)"
   ]
  },
  {
   "cell_type": "code",
   "execution_count": 56,
   "id": "5f2830bf-24ca-4c64-b623-c2e1b06df335",
   "metadata": {},
   "outputs": [
    {
     "name": "stdout",
     "output_type": "stream",
     "text": [
      "The Classification Report:\n",
      "              precision    recall  f1-score   support\n",
      "\n",
      "       AY.23       1.00      1.00      1.00         1\n",
      "   B.1.617.2       1.00      1.00      1.00         1\n",
      "\n",
      "    accuracy                           1.00         2\n",
      "   macro avg       1.00      1.00      1.00         2\n",
      "weighted avg       1.00      1.00      1.00         2\n",
      "\n"
     ]
    }
   ],
   "source": [
    "#evaluating the model\n",
    "Y_pred = model.predict(X_test)\n",
    "\n",
    "print(\"The Classification Report:\")\n",
    "print(classification_report(Y_test, Y_pred))"
   ]
  },
  {
   "cell_type": "code",
   "execution_count": 64,
   "id": "3d96afd2-eb3a-4428-911e-ef029744b054",
   "metadata": {},
   "outputs": [
    {
     "data": {
      "image/png": "[encoded data removed]",
      "text/plain": [
       "<Figure size 1000x600 with 2 Axes>"
      ]
     },
     "metadata": {},
     "output_type": "display_data"
    }
   ],
   "source": [
    "#Plot a confusion matrix\n",
    "\n",
    "cm = confusion_matrix(Y_test, Y_pred, labels=model.classes_)\n",
    "\n",
    "plt.figure(figsize=(10,6))\n",
    "sns.heatmap(cm, annot=True, fmt='d', xticklabels=model.classes_, yticklabels=model.classes_)\n",
    "\n",
    "plt.xlabel('Predited')\n",
    "plt.ylabel('True')\n",
    "plt.title('Confusion Matrix')\n",
    "\n",
    "# Save the plot \n",
    "#plt.savefig(r\"C:\\Users\\confusion_matrix.png\", bbox_inches='tight')\n",
    "\n",
    "plt.show()"
   ]
  },
  {
   "cell_type": "code",
   "execution_count": 65,
   "id": "04a51f8b-a714-4dcc-bc84-f48eefceffc0",
   "metadata": {},
   "outputs": [
    {
     "data": {
      "image/png": "[encoded data removed]",
      "text/plain": [
       "<Figure size 1000x500 with 1 Axes>"
      ]
     },
     "metadata": {},
     "output_type": "display_data"
    }
   ],
   "source": [
    "#identify the importance of the features in the ML model \n",
    "\n",
    "importances = model.feature_importances_\n",
    "feature_names = X.columns\n",
    "\n",
    "# Create a bar plot\n",
    "plt.figure(figsize=(10, 5))\n",
    "sns.barplot(x=importances, y=feature_names)\n",
    "plt.title(\"Feature Importances\")\n",
    "\n",
    "# Save the plot \n",
    "#plt.savefig(r\"C:\\Users\\feature_importances.png\", bbox_inches='tight')\n",
    "\n",
    "plt.show()"
   ]
  },
  {
   "cell_type": "code",
   "execution_count": 66,
   "id": "6e7d8a64-9205-4aad-adac-5d83f6fdeef2",
   "metadata": {},
   "outputs": [
    {
     "name": "stderr",
     "output_type": "stream",
     "text": [
      "C:\\Users\\dines\\anaconda3\\envs\\ML01\\Lib\\site-packages\\sklearn\\model_selection\\_split.py:805: UserWarning: The least populated class in y has only 1 members, which is less than n_splits=3.\n",
      "  warnings.warn(\n"
     ]
    },
    {
     "name": "stdout",
     "output_type": "stream",
     "text": [
      "Cross-validation scores: [0.33333333 0.66666667 0.5       ]\n",
      "Mean accuracy: 0.5\n"
     ]
    }
   ],
   "source": [
    "#Using ross-validation to get a more reliable estimate\n",
    "from sklearn.model_selection import cross_val_score\n",
    "\n",
    "scores = cross_val_score(model, X, Y, cv=3)  # 3-fold cross-validation\n",
    "print(\"Cross-validation scores:\", scores)\n",
    "print(\"Mean accuracy:\", scores.mean())\n"
   ]
  }
 ],
 "metadata": {
  "kernelspec": {
   "display_name": "ML01",
   "language": "python",
   "name": "ml01"
  },
  "language_info": {
   "codemirror_mode": {
    "name": "ipython",
    "version": 3
   },
   "file_extension": ".py",
   "mimetype": "text/x-python",
   "name": "python",
   "nbconvert_exporter": "python",
   "pygments_lexer": "ipython3",
   "version": "3.13.2"
  }
 },
 "nbformat": 4,
 "nbformat_minor": 5
}
